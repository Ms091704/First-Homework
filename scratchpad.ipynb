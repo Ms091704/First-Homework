{
  "nbformat": 4,
  "nbformat_minor": 0,
  "metadata": {
    "colab": {
      "name": "scratchpad",
      "provenance": [],
      "include_colab_link": true
    },
    "kernelspec": {
      "display_name": "Python 3",
      "name": "python3"
    }
  },
  "cells": [
    {
      "cell_type": "markdown",
      "metadata": {
        "id": "view-in-github",
        "colab_type": "text"
      },
      "source": [
        "<a href=\"https://colab.research.google.com/github/Ms091704/First-Homework/blob/main/scratchpad.ipynb\" target=\"_parent\"><img src=\"https://colab.research.google.com/assets/colab-badge.svg\" alt=\"Open In Colab\"/></a>"
      ]
    },
    {
      "cell_type": "markdown",
      "source": [
        "## Pseudocode of pivot point movement\n",
        "1. import packages: `numpy`,\n",
        "2. Equation of motion:\n",
        "  .......\n",
        "3. Assign motion: Pivot point is going to start at the origin then begin to move in a circle (Periodic motion) where x(t)= -Lsin($omega$ t) and y(t)= Lcos($omega$ t - 1) *acceleration will be derivatives of these*\n",
        "4. Initial conditions: *fixed parameters*: L, $omega_0$ *other parameters*: $omega_d$\n",
        "  - Initial conditions: $omega_d$ close to zero so its larger than $omega_0$, $theta$ at t=0 is 0, and $theta$ dot at t=0 is 0,\n",
        "  - reparametrize $x_p$, $y_p$\n",
        "5. think about ending result: the angular frequency should be constant, but the angle is changing so it could be some linear fuction. $theta_f=Ct$ (maybe )\n"
      ],
      "metadata": {
        "id": "LdsQv3ZxMma0"
      }
    },
    {
      "metadata": {
        "id": "ykldCVAWT0Xl"
      },
      "cell_type": "code",
      "source": [],
      "execution_count": null,
      "outputs": []
    }
  ]
}